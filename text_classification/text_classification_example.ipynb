{
 "cells": [
  {
   "cell_type": "markdown",
   "metadata": {},
   "source": [
    "imports"
   ]
  },
  {
   "cell_type": "code",
   "execution_count": 1,
   "metadata": {},
   "outputs": [
    {
     "name": "stderr",
     "output_type": "stream",
     "text": [
      "Sliding Window Attention is enabled but not implemented for `sdpa`; unexpected results may be encountered.\n"
     ]
    }
   ],
   "source": [
    "# Use a pipeline as a high-level helper\n",
    "from transformers import pipeline\n",
    "from transformers import AutoModelForCausalLM, AutoTokenizer, BitsAndBytesConfig\n",
    "\n",
    "\n",
    "model_dir = \"../Qwen2.5-1.5B-Instruct-offline\"\n",
    "device = \"cpu\"\n",
    "# messages = [\n",
    "#     {\"role\": \"user\", \"content\": \"Who are you?\"},\n",
    "# ]\n",
    "# pipe = pipeline(\"text-generation\", model=\"../Qwen2.5-1.5B-Instruct-offline\")\n",
    "# pipe(messages)\n",
    "# pipe(details_extraction_messages)\n",
    "model = AutoModelForCausalLM.from_pretrained(\n",
    "    model_dir,\n",
    "    device_map=\"auto\",\n",
    "    torch_dtype = None\n",
    ")\n",
    "\n",
    "tokenizer = AutoTokenizer.from_pretrained(model_dir)"
   ]
  },
  {
   "cell_type": "code",
   "execution_count": 2,
   "metadata": {},
   "outputs": [],
   "source": [
    "categories = [\n",
    "    \"first_name\", \"last_name\", \"work_email\", \"job_title\", \"hire_date\",\n",
    "    \"base_salary\", \"nationality\", \"passport_number\", \"unified_number\", \"code_id\", \"emirate_id\", \n",
    "    \"not_specified\"\n",
    "]\n",
    "\n",
    "def header_classification_msg(input: str):\n",
    "    return [\n",
    "        {\n",
    "            \"role\": \"system\",\n",
    "            \"content\": \"\\n\".join([\n",
    "                \"You are an NLP data paraser.\",\n",
    "                \"You will be provided by a word in any language.\",\n",
    "                \"You will have to categorize the word into one of the following categories:\",\n",
    "                \", \".join(categories),\n",
    "                \"Do not generate any introduction or conclusion.\"\n",
    "            ])\n",
    "        },\n",
    "        {\n",
    "            \"role\": \"user\",\n",
    "            \"content\": input\n",
    "        }\n",
    "    ]\n",
    "    "
   ]
  },
  {
   "cell_type": "code",
   "execution_count": 3,
   "metadata": {},
   "outputs": [
    {
     "name": "stderr",
     "output_type": "stream",
     "text": [
      "Device set to use cpu\n"
     ]
    }
   ],
   "source": [
    "pipe = pipeline(\"text-generation\", model=model_dir)"
   ]
  },
  {
   "cell_type": "code",
   "execution_count": 6,
   "metadata": {},
   "outputs": [],
   "source": [
    "def generate_header_classification(input: str):\n",
    "    return pipe(header_classification_msg(input))[0][\"generated_text\"][2][\"content\"]"
   ]
  },
  {
   "cell_type": "code",
   "execution_count": 15,
   "metadata": {},
   "outputs": [
    {
     "name": "stdout",
     "output_type": "stream",
     "text": [
      "Input: gross_salary, output: base_salary\n",
      "Input: fullname, output: last_name, first_name\n",
      "Input: firstname, output: first_name\n",
      "Input: lastname, output: last_name\n",
      "Input: email, output: work_email\n",
      "Input: job, output: job_title\n",
      "Input: hiredat, output: hire_date\n",
      "Input: country, output: nationality\n"
     ]
    }
   ],
   "source": [
    "print(\"Input: gross_salary, output:\", generate_header_classification(\"gross_salary\"))\n",
    "print(\"Input: fullname, output:\", generate_header_classification(\"fullname\"))\n",
    "print(\"Input: firstname, output:\", generate_header_classification(\"firstname\"))\n",
    "print(\"Input: lastname, output:\", generate_header_classification(\"lastname\"))\n",
    "print(\"Input: email, output:\", generate_header_classification(\"email\"))\n",
    "print(\"Input: job, output:\", generate_header_classification(\"job\"))\n",
    "print(\"Input: hiredat, output:\", generate_header_classification(\"hiredat\"))\n",
    "print(\"Input: country, output:\", generate_header_classification(\"country\"))"
   ]
  }
 ],
 "metadata": {
  "kernelspec": {
   "display_name": "ml_learning-ZMdNA9EX",
   "language": "python",
   "name": "python3"
  },
  "language_info": {
   "codemirror_mode": {
    "name": "ipython",
    "version": 3
   },
   "file_extension": ".py",
   "mimetype": "text/x-python",
   "name": "python",
   "nbconvert_exporter": "python",
   "pygments_lexer": "ipython3",
   "version": "3.9.17"
  }
 },
 "nbformat": 4,
 "nbformat_minor": 2
}
